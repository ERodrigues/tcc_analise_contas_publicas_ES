{
 "cells": [
  {
   "cell_type": "code",
   "execution_count": 1,
   "metadata": {
    "collapsed": true
   },
   "outputs": [],
   "source": [
    "%matplotlib inline\n",
    "import pandas as pd\n",
    "import numpy as np\n",
    "import matplotlib.pyplot as mtplot\n",
    "import seaborn as sns\n",
    "from pymongo import MongoClient"
   ]
  },
  {
   "cell_type": "code",
   "execution_count": 2,
   "metadata": {
    "collapsed": true
   },
   "outputs": [],
   "source": [
    "# Função para conexão com o MongoDB aonde estão os dados de receitas e despesas\n",
    "def conexao_mongodb (host, port, db):    \n",
    "    conn = MongoClient (host, port)\n",
    "    return conn[db]"
   ]
  },
  {
   "cell_type": "code",
   "execution_count": 3,
   "metadata": {
    "collapsed": true
   },
   "outputs": [],
   "source": [
    "# Função responsável pela leitura das collections do banco de contas públicas do ES do ano de 2016 \n",
    "# com os dados de receita e despesa disponibilizados pelo estado através do portal da transparência\n",
    "# Essa função irá ler os dados da collection passada por parametro e transformará esses dados em um \n",
    "# Panda DataFrame\n",
    "def ler_contaspublicas (colecao, host='localhost', port=27017, no_id=True, _db='contaspublicas'):\n",
    "    db = conexao_mongodb (host, port, _db)\n",
    "    cursor = db[colecao].find({})\n",
    "    contaspublicas_pd = pd.DataFrame (list(cursor))\n",
    "    \n",
    "    if no_id:\n",
    "        del contaspublicas_pd['_id']\n",
    "        \n",
    "    return contaspublicas_pd"
   ]
  },
  {
   "cell_type": "code",
   "execution_count": 5,
   "metadata": {
    "collapsed": true
   },
   "outputs": [],
   "source": [
    "# Crio um DataFrame com os dados de receitas presentes no banco de dados \n",
    "receitas = ler_contaspublicas (colecao = 'receitas', host='localhost', port=27017, _db='contaspublicas')"
   ]
  },
  {
   "cell_type": "code",
   "execution_count": 6,
   "metadata": {},
   "outputs": [
    {
     "data": {
      "text/html": [
       "<div>\n",
       "<style>\n",
       "    .dataframe thead tr:only-child th {\n",
       "        text-align: right;\n",
       "    }\n",
       "\n",
       "    .dataframe thead th {\n",
       "        text-align: left;\n",
       "    }\n",
       "\n",
       "    .dataframe tbody tr th {\n",
       "        vertical-align: top;\n",
       "    }\n",
       "</style>\n",
       "<table border=\"1\" class=\"dataframe\">\n",
       "  <thead>\n",
       "    <tr style=\"text-align: right;\">\n",
       "      <th></th>\n",
       "      <th>Ano</th>\n",
       "      <th>Codigo</th>\n",
       "      <th>CodigoAlinea</th>\n",
       "      <th>CodigoCategoria</th>\n",
       "      <th>CodigoDetalhamentoFonte</th>\n",
       "      <th>CodigoDetalhamentoFonteAux</th>\n",
       "      <th>CodigoEspecie</th>\n",
       "      <th>CodigoFonte</th>\n",
       "      <th>CodigoGrupoFonte</th>\n",
       "      <th>CodigoIdUso</th>\n",
       "      <th>...</th>\n",
       "      <th>DescricaoOrigem</th>\n",
       "      <th>DescricaoRubrica</th>\n",
       "      <th>DescricaoSubAlinea</th>\n",
       "      <th>DescricaoUG</th>\n",
       "      <th>DescricaoUGEmitente</th>\n",
       "      <th>Documento</th>\n",
       "      <th>Tipo</th>\n",
       "      <th>ValorArrecadada</th>\n",
       "      <th>ValorPrevista</th>\n",
       "      <th>id</th>\n",
       "    </tr>\n",
       "  </thead>\n",
       "  <tbody>\n",
       "    <tr>\n",
       "      <th>0</th>\n",
       "      <td>2016</td>\n",
       "      <td></td>\n",
       "      <td>111302</td>\n",
       "      <td>1</td>\n",
       "      <td>0</td>\n",
       "      <td>101.000000</td>\n",
       "      <td>111</td>\n",
       "      <td>101</td>\n",
       "      <td>1</td>\n",
       "      <td>0</td>\n",
       "      <td>...</td>\n",
       "      <td>RECEITA TRIBUTARIA</td>\n",
       "      <td>IMPOSTO SOBRE A PRODUCAO E A CIRCULACAO</td>\n",
       "      <td>ICMS - DIFERENCIAL ALIQUOTA DE PRODUTOR RURAL</td>\n",
       "      <td>ADMINISTRAÇÃO GERAL A CARGO DA SEFAZ</td>\n",
       "      <td>ADMINISTRAÇÃO GERAL A CARGO DA SEFAZ</td>\n",
       "      <td>2016PR00001</td>\n",
       "      <td>PREVISTA</td>\n",
       "      <td>0.0</td>\n",
       "      <td>30307.0</td>\n",
       "      <td>487</td>\n",
       "    </tr>\n",
       "    <tr>\n",
       "      <th>1</th>\n",
       "      <td>2016</td>\n",
       "      <td></td>\n",
       "      <td>111302</td>\n",
       "      <td>1</td>\n",
       "      <td>2</td>\n",
       "      <td>101.000002</td>\n",
       "      <td>111</td>\n",
       "      <td>101</td>\n",
       "      <td>1</td>\n",
       "      <td>0</td>\n",
       "      <td>...</td>\n",
       "      <td>RECEITA TRIBUTARIA</td>\n",
       "      <td>IMPOSTO SOBRE A PRODUCAO E A CIRCULACAO</td>\n",
       "      <td>ICMS - SIMPLES NACIONAL</td>\n",
       "      <td>ADMINISTRAÇÃO GERAL A CARGO DA SEFAZ</td>\n",
       "      <td>ADMINISTRAÇÃO GERAL A CARGO DA SEFAZ</td>\n",
       "      <td>2016PR00001</td>\n",
       "      <td>PREVISTA</td>\n",
       "      <td>0.0</td>\n",
       "      <td>51818535.0</td>\n",
       "      <td>491</td>\n",
       "    </tr>\n",
       "    <tr>\n",
       "      <th>2</th>\n",
       "      <td>2016</td>\n",
       "      <td></td>\n",
       "      <td>111302</td>\n",
       "      <td>1</td>\n",
       "      <td>0</td>\n",
       "      <td>101.000000</td>\n",
       "      <td>111</td>\n",
       "      <td>101</td>\n",
       "      <td>1</td>\n",
       "      <td>0</td>\n",
       "      <td>...</td>\n",
       "      <td>RECEITA TRIBUTARIA</td>\n",
       "      <td>IMPOSTO SOBRE A PRODUCAO E A CIRCULACAO</td>\n",
       "      <td>ICMS COMERCIO EXTERIOR</td>\n",
       "      <td>ADMINISTRAÇÃO GERAL A CARGO DA SEFAZ</td>\n",
       "      <td>ADMINISTRAÇÃO GERAL A CARGO DA SEFAZ</td>\n",
       "      <td>2016PR00001</td>\n",
       "      <td>PREVISTA</td>\n",
       "      <td>0.0</td>\n",
       "      <td>110420142.0</td>\n",
       "      <td>499</td>\n",
       "    </tr>\n",
       "  </tbody>\n",
       "</table>\n",
       "<p>3 rows × 39 columns</p>\n",
       "</div>"
      ],
      "text/plain": [
       "    Ano Codigo  CodigoAlinea  CodigoCategoria  CodigoDetalhamentoFonte  \\\n",
       "0  2016               111302                1                        0   \n",
       "1  2016               111302                1                        2   \n",
       "2  2016               111302                1                        0   \n",
       "\n",
       "   CodigoDetalhamentoFonteAux  CodigoEspecie  CodigoFonte  CodigoGrupoFonte  \\\n",
       "0                  101.000000            111          101                 1   \n",
       "1                  101.000002            111          101                 1   \n",
       "2                  101.000000            111          101                 1   \n",
       "\n",
       "   CodigoIdUso ...      DescricaoOrigem  \\\n",
       "0            0 ...   RECEITA TRIBUTARIA   \n",
       "1            0 ...   RECEITA TRIBUTARIA   \n",
       "2            0 ...   RECEITA TRIBUTARIA   \n",
       "\n",
       "                          DescricaoRubrica  \\\n",
       "0  IMPOSTO SOBRE A PRODUCAO E A CIRCULACAO   \n",
       "1  IMPOSTO SOBRE A PRODUCAO E A CIRCULACAO   \n",
       "2  IMPOSTO SOBRE A PRODUCAO E A CIRCULACAO   \n",
       "\n",
       "                              DescricaoSubAlinea  \\\n",
       "0  ICMS - DIFERENCIAL ALIQUOTA DE PRODUTOR RURAL   \n",
       "1                        ICMS - SIMPLES NACIONAL   \n",
       "2                         ICMS COMERCIO EXTERIOR   \n",
       "\n",
       "                             DescricaoUG  \\\n",
       "0  ADMINISTRAÇÃO GERAL A CARGO DA SEFAZ    \n",
       "1  ADMINISTRAÇÃO GERAL A CARGO DA SEFAZ    \n",
       "2  ADMINISTRAÇÃO GERAL A CARGO DA SEFAZ    \n",
       "\n",
       "                     DescricaoUGEmitente    Documento      Tipo  \\\n",
       "0  ADMINISTRAÇÃO GERAL A CARGO DA SEFAZ   2016PR00001  PREVISTA   \n",
       "1  ADMINISTRAÇÃO GERAL A CARGO DA SEFAZ   2016PR00001  PREVISTA   \n",
       "2  ADMINISTRAÇÃO GERAL A CARGO DA SEFAZ   2016PR00001  PREVISTA   \n",
       "\n",
       "  ValorArrecadada ValorPrevista   id  \n",
       "0             0.0       30307.0  487  \n",
       "1             0.0    51818535.0  491  \n",
       "2             0.0   110420142.0  499  \n",
       "\n",
       "[3 rows x 39 columns]"
      ]
     },
     "execution_count": 6,
     "metadata": {},
     "output_type": "execute_result"
    }
   ],
   "source": [
    "# Apresento três registros do DataFrame para averiguar se foram corretamente carregados \n",
    "receitas.head(3)"
   ]
  },
  {
   "cell_type": "code",
   "execution_count": 7,
   "metadata": {
    "collapsed": true
   },
   "outputs": [],
   "source": [
    "# Crio um DataFrame com os dados de despesas presentes no banco de dados \n",
    "despesas = ler_contaspublicas (colecao='despesas', host='localhost', port=27017, _db='contaspublicas')"
   ]
  },
  {
   "cell_type": "code",
   "execution_count": 8,
   "metadata": {},
   "outputs": [
    {
     "data": {
      "text/html": [
       "<div>\n",
       "<style>\n",
       "    .dataframe thead tr:only-child th {\n",
       "        text-align: right;\n",
       "    }\n",
       "\n",
       "    .dataframe thead th {\n",
       "        text-align: left;\n",
       "    }\n",
       "\n",
       "    .dataframe tbody tr th {\n",
       "        vertical-align: top;\n",
       "    }\n",
       "</style>\n",
       "<table border=\"1\" class=\"dataframe\">\n",
       "  <thead>\n",
       "    <tr style=\"text-align: right;\">\n",
       "      <th></th>\n",
       "      <th>Acao</th>\n",
       "      <th>Ano</th>\n",
       "      <th>CargoFuncao</th>\n",
       "      <th>CategoriaEconomica</th>\n",
       "      <th>CodigoAcao</th>\n",
       "      <th>CodigoCategoriaEconomica</th>\n",
       "      <th>CodigoElementoDespesa</th>\n",
       "      <th>CodigoFonte</th>\n",
       "      <th>CodigoFuncao</th>\n",
       "      <th>CodigoFuncionalProgramatica</th>\n",
       "      <th>...</th>\n",
       "      <th>SubFuncao</th>\n",
       "      <th>SubelementoDespesa</th>\n",
       "      <th>Subtitulo</th>\n",
       "      <th>TipoFavorecido</th>\n",
       "      <th>TipoLicitacao</th>\n",
       "      <th>UnidadeGestora</th>\n",
       "      <th>ValorEmpenho</th>\n",
       "      <th>ValorLiquidado</th>\n",
       "      <th>ValorPago</th>\n",
       "      <th>ValorRap</th>\n",
       "    </tr>\n",
       "  </thead>\n",
       "  <tbody>\n",
       "    <tr>\n",
       "      <th>0</th>\n",
       "      <td>ADMINISTRAÇÃO DA UNIDADE</td>\n",
       "      <td>2016</td>\n",
       "      <td></td>\n",
       "      <td>DESPESAS CORRENTES</td>\n",
       "      <td>2070</td>\n",
       "      <td>3</td>\n",
       "      <td>14</td>\n",
       "      <td>671</td>\n",
       "      <td>20</td>\n",
       "      <td>0</td>\n",
       "      <td>...</td>\n",
       "      <td>ADMINISTRAÇÃO GERAL</td>\n",
       "      <td>DIÁRIAS -  CIVIL - NO PAÍS - DENTRO DO ESTADO</td>\n",
       "      <td>ESTADO</td>\n",
       "      <td>1</td>\n",
       "      <td>NÃO APLICÁVEL - DIÁRIAS</td>\n",
       "      <td>INSTITUTO CAPIXABA PESQUISA ASSISTÊNCIA TÉCNIC...</td>\n",
       "      <td>0.0</td>\n",
       "      <td>0.0</td>\n",
       "      <td>-56.0</td>\n",
       "      <td>0.0</td>\n",
       "    </tr>\n",
       "    <tr>\n",
       "      <th>1</th>\n",
       "      <td>CAPACITAÇÃO E TREINAMENTO DE RECURSOS HUMANOS</td>\n",
       "      <td>2016</td>\n",
       "      <td></td>\n",
       "      <td>DESPESAS CORRENTES</td>\n",
       "      <td>2077</td>\n",
       "      <td>3</td>\n",
       "      <td>14</td>\n",
       "      <td>101</td>\n",
       "      <td>20</td>\n",
       "      <td>0</td>\n",
       "      <td>...</td>\n",
       "      <td>FORMAÇÃO DE RECURSOS HUMANOS</td>\n",
       "      <td>DIÁRIAS -  CIVIL - NO PAÍS - DENTRO DO ESTADO</td>\n",
       "      <td>ESTADO</td>\n",
       "      <td>1</td>\n",
       "      <td>NÃO APLICÁVEL - DIÁRIAS</td>\n",
       "      <td>INSTITUTO CAPIXABA PESQUISA ASSISTÊNCIA TÉCNIC...</td>\n",
       "      <td>0.0</td>\n",
       "      <td>0.0</td>\n",
       "      <td>56.0</td>\n",
       "      <td>0.0</td>\n",
       "    </tr>\n",
       "    <tr>\n",
       "      <th>2</th>\n",
       "      <td>PROTEÇÃO DOS RECURSOS NATURAIS RENOVÁVEIS</td>\n",
       "      <td>2016</td>\n",
       "      <td></td>\n",
       "      <td>DESPESAS CORRENTES</td>\n",
       "      <td>8382</td>\n",
       "      <td>3</td>\n",
       "      <td>14</td>\n",
       "      <td>271</td>\n",
       "      <td>20</td>\n",
       "      <td>0</td>\n",
       "      <td>...</td>\n",
       "      <td>CONTROLE AMBIENTAL</td>\n",
       "      <td>DIÁRIAS -  CIVIL - NO PAÍS - DENTRO DO ESTADO</td>\n",
       "      <td>ESTADO</td>\n",
       "      <td>1</td>\n",
       "      <td>NÃO APLICÁVEL - DIÁRIAS</td>\n",
       "      <td>INSTITUTO DE DEFESA AGROPECUÁRIA FLORESTAL ESP...</td>\n",
       "      <td>0.0</td>\n",
       "      <td>0.0</td>\n",
       "      <td>336.0</td>\n",
       "      <td>0.0</td>\n",
       "    </tr>\n",
       "  </tbody>\n",
       "</table>\n",
       "<p>3 rows × 48 columns</p>\n",
       "</div>"
      ],
      "text/plain": [
       "                                            Acao   Ano CargoFuncao  \\\n",
       "0                       ADMINISTRAÇÃO DA UNIDADE  2016               \n",
       "1  CAPACITAÇÃO E TREINAMENTO DE RECURSOS HUMANOS  2016               \n",
       "2      PROTEÇÃO DOS RECURSOS NATURAIS RENOVÁVEIS  2016               \n",
       "\n",
       "   CategoriaEconomica  CodigoAcao  CodigoCategoriaEconomica  \\\n",
       "0  DESPESAS CORRENTES        2070                         3   \n",
       "1  DESPESAS CORRENTES        2077                         3   \n",
       "2  DESPESAS CORRENTES        8382                         3   \n",
       "\n",
       "   CodigoElementoDespesa  CodigoFonte  CodigoFuncao  \\\n",
       "0                     14          671            20   \n",
       "1                     14          101            20   \n",
       "2                     14          271            20   \n",
       "\n",
       "   CodigoFuncionalProgramatica    ...                        SubFuncao  \\\n",
       "0                            0    ...              ADMINISTRAÇÃO GERAL   \n",
       "1                            0    ...     FORMAÇÃO DE RECURSOS HUMANOS   \n",
       "2                            0    ...               CONTROLE AMBIENTAL   \n",
       "\n",
       "                              SubelementoDespesa  Subtitulo  TipoFavorecido  \\\n",
       "0  DIÁRIAS -  CIVIL - NO PAÍS - DENTRO DO ESTADO     ESTADO               1   \n",
       "1  DIÁRIAS -  CIVIL - NO PAÍS - DENTRO DO ESTADO     ESTADO               1   \n",
       "2  DIÁRIAS -  CIVIL - NO PAÍS - DENTRO DO ESTADO     ESTADO               1   \n",
       "\n",
       "              TipoLicitacao  \\\n",
       "0  NÃO APLICÁVEL - DIÁRIAS    \n",
       "1  NÃO APLICÁVEL - DIÁRIAS    \n",
       "2  NÃO APLICÁVEL - DIÁRIAS    \n",
       "\n",
       "                                      UnidadeGestora  ValorEmpenho  \\\n",
       "0  INSTITUTO CAPIXABA PESQUISA ASSISTÊNCIA TÉCNIC...           0.0   \n",
       "1  INSTITUTO CAPIXABA PESQUISA ASSISTÊNCIA TÉCNIC...           0.0   \n",
       "2  INSTITUTO DE DEFESA AGROPECUÁRIA FLORESTAL ESP...           0.0   \n",
       "\n",
       "   ValorLiquidado  ValorPago  ValorRap  \n",
       "0             0.0      -56.0       0.0  \n",
       "1             0.0       56.0       0.0  \n",
       "2             0.0      336.0       0.0  \n",
       "\n",
       "[3 rows x 48 columns]"
      ]
     },
     "execution_count": 8,
     "metadata": {},
     "output_type": "execute_result"
    }
   ],
   "source": [
    "# Apresento três registros do DataFrame para averiguar se foram corretamente carregados \n",
    "despesas.head(3)"
   ]
  },
  {
   "cell_type": "code",
   "execution_count": 9,
   "metadata": {
    "collapsed": true
   },
   "outputs": [],
   "source": [
    "# Limpo os dados excluindo aquelas linhas que não tem Valor Pago no DataFrame de despesas\n",
    "despesas = despesas.dropna (subset=['ValorPago'], axis=0) "
   ]
  },
  {
   "cell_type": "code",
   "execution_count": 10,
   "metadata": {
    "collapsed": true
   },
   "outputs": [],
   "source": [
    "# Limpo os dados excluindo aquelas receitas que não tem valores Arrecadados no DataFrame de receitas\n",
    "receitas = receitas.dropna (subset=['ValorArrecadada'], axis=0) "
   ]
  },
  {
   "cell_type": "code",
   "execution_count": 11,
   "metadata": {},
   "outputs": [
    {
     "name": "stdout",
     "output_type": "stream",
     "text": [
      "12377734134.5\n"
     ]
    }
   ],
   "source": [
    "# Faço o somatório de todas as despesas usando as informações do ValorPago + Valor Rap\n",
    "# O Valor RAP é somado as depesas porque no site da Transparência esse valor é acrescentado \n",
    "# ao valor pago.\n",
    "# Ao final da soma, apresento o valor calculado \n",
    "total_despesas = despesas['ValorPago'].sum() + despesas['ValorRap'].sum()\n",
    "print (total_despesas)"
   ]
  },
  {
   "cell_type": "code",
   "execution_count": 12,
   "metadata": {},
   "outputs": [
    {
     "name": "stdout",
     "output_type": "stream",
     "text": [
      "14810772647.9\n"
     ]
    }
   ],
   "source": [
    "# Faço o somatório de todas as receitas usando as informações do Valor Arrecadado\n",
    "# Ao final da soma, apresento o valor calculado \n",
    "total_receitas = receitas['ValorArrecadada'].sum()\n",
    "print (total_receitas)"
   ]
  },
  {
   "cell_type": "code",
   "execution_count": 13,
   "metadata": {
    "collapsed": true
   },
   "outputs": [],
   "source": [
    "# Crio uma série para plotar o resultado obtido \n",
    "receita_versus_despesas = pd.Series ([total_despesas, total_receitas], index=['despesas','receitas'])"
   ]
  },
  {
   "cell_type": "code",
   "execution_count": 14,
   "metadata": {},
   "outputs": [
    {
     "data": {
      "text/plain": [
       "<matplotlib.axes._subplots.AxesSubplot at 0x7f5af9642bd0>"
      ]
     },
     "execution_count": 14,
     "metadata": {},
     "output_type": "execute_result"
    },
    {
     "data": {
      "image/png": "[encoded data removed]",
      "text/plain": [
       "<matplotlib.figure.Figure at 0x7f5af9642490>"
      ]
     },
     "metadata": {},
     "output_type": "display_data"
    }
   ],
   "source": [
    "# Apresento gráficamente o resultado obtido\n",
    "receita_versus_despesas.plot(kind='barh', figsize=(14,6))"
   ]
  },
  {
   "cell_type": "code",
   "execution_count": 15,
   "metadata": {},
   "outputs": [
    {
     "name": "stdout",
     "output_type": "stream",
     "text": [
      "2433038513.43\n"
     ]
    }
   ],
   "source": [
    "# Calculo o superavit do Estado considerando apenas as fontes de receitas e despeasas do ano de 2016 \n",
    "# ao final, apresento o resultado \n",
    "superavit = total_receitas - total_despesas\n",
    "print (superavit)"
   ]
  },
  {
   "cell_type": "code",
   "execution_count": null,
   "metadata": {
    "collapsed": true
   },
   "outputs": [],
   "source": []
  }
 ],
 "metadata": {
  "kernelspec": {
   "display_name": "Python 2",
   "language": "python",
   "name": "python2"
  },
  "language_info": {
   "codemirror_mode": {
    "name": "ipython",
    "version": 2
   },
   "file_extension": ".py",
   "mimetype": "text/x-python",
   "name": "python",
   "nbconvert_exporter": "python",
   "pygments_lexer": "ipython2",
   "version": "2.7.14"
  }
 },
 "nbformat": 4,
 "nbformat_minor": 2
}
